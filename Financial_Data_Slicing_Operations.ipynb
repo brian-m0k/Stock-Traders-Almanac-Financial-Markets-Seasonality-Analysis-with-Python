{
 "cells": [
  {
   "cell_type": "markdown",
   "id": "1f94f696-0f54-4df2-903a-e530bce002c8",
   "metadata": {},
   "source": [
    "#Welcome to the Initial Exercise book of this Stock Trader's Almanac Financial Data Analysis Series. "
   ]
  },
  {
   "cell_type": "code",
   "execution_count": null,
   "id": "824ce8c5-6c6f-409a-9a44-9ecffa3c9845",
   "metadata": {},
   "outputs": [],
   "source": []
  }
 ],
 "metadata": {
  "kernelspec": {
   "display_name": "stock_traders_almanac",
   "language": "python",
   "name": "stock_traders_almanac"
  },
  "language_info": {
   "codemirror_mode": {
    "name": "ipython",
    "version": 3
   },
   "file_extension": ".py",
   "mimetype": "text/x-python",
   "name": "python",
   "nbconvert_exporter": "python",
   "pygments_lexer": "ipython3",
   "version": "3.13.5"
  }
 },
 "nbformat": 4,
 "nbformat_minor": 5
}
